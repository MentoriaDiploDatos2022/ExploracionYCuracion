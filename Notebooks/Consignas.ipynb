{
 "cells": [
  {
   "cell_type": "markdown",
   "id": "e956caaf-586b-4721-b734-9e94acabb0fb",
   "metadata": {},
   "source": [
    "# Practico Exploracion y curacion"
   ]
  },
  {
   "cell_type": "markdown",
   "id": "d9aeb117-20c2-4031-bfb8-e6ed9377f6d0",
   "metadata": {},
   "source": [
    "-----"
   ]
  },
  {
   "cell_type": "markdown",
   "id": "cdc84cbd-9b97-4501-8f55-8362c0159938",
   "metadata": {},
   "source": [
    "## Consignas"
   ]
  },
  {
   "cell_type": "markdown",
   "id": "9cbad10b-a5e7-42f5-b65c-9bb0531c769e",
   "metadata": {},
   "source": [
    "### 1. Curación de datos anómalos\n",
    "\n",
    "Existe una cantidad de datos anómalos en el dataset y es necesario curarlos. Elegir y justificar una estrategia de imputación para los datos nulos.\n",
    "\n",
    "### 2. Eliminación de outliers: \n",
    "\n",
    "En base en el estudio de outliers hecho en el practico 1, definan cotas inferiores y superiores para las variables que presenten outliers y filtren las filas que no cumplan con esos limites.\n",
    "\n",
    "### 3. Balanceo de etiquetas:\n",
    "\n",
    "La etiqueta positiva esta desbalanceada con respecto a la negativa. Esto se vio en el análisis de distribución sobre las distintas variables con respecto a la etiqueta. Existen distintos métodos para balanceo de etiquetas (ver notebooks over_sampling y under_sampling) así que vamos a probar algunos para ayudar a nuestros modelos del practico que viene.\n",
    "\n",
    "- Usar al menos tres métodos de over-sampling para balancear el target. Uno de ellos tiene que ser RandomOverSampler\n",
    "- Usar al menos tres métodos de under-sampling para balancear el target. Uno de ellos tiene que ser RandomUnderSampler\n",
    "\n",
    "### 4. Escalado\n",
    "\n",
    "Todas las métricas provenientes de la teoría de la información con excepción de ZE están escaladas entre 0 y 1. Es decir que tienen un mínimo en 0 y máximo en 1. Es necesario que todas nuestras features tengan la misma escala para que los modelos de ML funcionen mejor. Escalar LZE y las métricas de estadística clásica (media, varianza, skew) entre 0 y 1. (hint: MinMaxScaler)\n",
    "\n",
    "### 5. PCA\n",
    "\n",
    "Realizar PCA sobre el dataset original y acoplar las columnas generadas mas significativas al dataset. "
   ]
  },
  {
   "cell_type": "markdown",
   "id": "25148148-1e62-4bcc-8d19-8a6ef45b2a3e",
   "metadata": {},
   "source": [
    "### Referencias\n",
    "\n",
    "PCA: https://towardsdatascience.com/principal-component-analysis-3c39fbf5cb9d\n",
    "\n",
    "Etiquetas no balanceadas: https://towardsdatascience.com/practical-tips-for-class-imbalance-in-binary-classification-6ee29bcdb8a7#:~:text=3.%20Resampling%20to,imbalanced%2Dlearn%20library\n",
    "\n",
    "imbalanced-learn: https://github.com/scikit-learn-contrib/imbalanced-learn"
   ]
  },
  {
   "cell_type": "code",
   "execution_count": null,
   "id": "2107d1c8-9e73-4907-901a-57879e489262",
   "metadata": {},
   "outputs": [],
   "source": []
  }
 ],
 "metadata": {
  "kernelspec": {
   "display_name": "Python [conda env:diplodatos-ayvd] *",
   "language": "python",
   "name": "conda-env-diplodatos-ayvd-py"
  },
  "language_info": {
   "codemirror_mode": {
    "name": "ipython",
    "version": 3
   },
   "file_extension": ".py",
   "mimetype": "text/x-python",
   "name": "python",
   "nbconvert_exporter": "python",
   "pygments_lexer": "ipython3",
   "version": "3.6.13"
  },
  "toc-autonumbering": false
 },
 "nbformat": 4,
 "nbformat_minor": 5
}
